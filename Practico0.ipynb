{
  "nbformat": 4,
  "nbformat_minor": 0,
  "metadata": {
    "colab": {
      "name": "Untitled2.ipynb",
      "provenance": [],
      "collapsed_sections": [],
      "authorship_tag": "ABX9TyORJVBq6Bb/CpYWcmdSOzZO",
      "include_colab_link": true
    },
    "kernelspec": {
      "name": "python3",
      "display_name": "Python 3"
    },
    "language_info": {
      "name": "python"
    }
  },
  "cells": [
    {
      "cell_type": "markdown",
      "metadata": {
        "id": "view-in-github",
        "colab_type": "text"
      },
      "source": [
        "<a href=\"https://colab.research.google.com/github/plance17/Redes-Neuronales-UNSAM/blob/main/Practico0.ipynb\" target=\"_parent\"><img src=\"https://colab.research.google.com/assets/colab-badge.svg\" alt=\"Open In Colab\"/></a>"
      ]
    },
    {
      "cell_type": "code",
      "metadata": {
        "id": "gFayfXOnrkPb"
      },
      "source": [
        "import matplotlib.pyplot as plt\n",
        "import numpy as np"
      ],
      "execution_count": null,
      "outputs": []
    },
    {
      "cell_type": "code",
      "metadata": {
        "id": "ew25Ixvusy0n"
      },
      "source": [
        "def euler(f,x,t,dt,p):\n",
        "    \"\"\"\n",
        "    Calcula un paso de integración del método de Euler.\n",
        "    \n",
        "    Argumentos de entrada:\n",
        "    \n",
        "        f : R^n -> R^n\n",
        "        x = x(t) : R^n\n",
        "        t = tiempo : R\n",
        "        dt = paso de tiempo : R\n",
        "        p = parametros : R^q        \n",
        "        \n",
        "    Retorna aproximacion numérica de\n",
        "    \n",
        "        x(t+dt) : R^n\n",
        "\n",
        "    # Ejemplos:\n",
        "    \"\"\"\n",
        "    return x + dt*f(x,t,p)"
      ],
      "execution_count": null,
      "outputs": []
    },
    {
      "cell_type": "code",
      "metadata": {
        "id": "pXWLFuT5s2NH"
      },
      "source": [
        "def rk4(f,x,t,dt,p):\n",
        "    \"\"\"\n",
        "    Calcula un paso de integración del método de Runge Kutta orden 4.\n",
        "    \n",
        "    Argumentos de entrada:\n",
        "    \n",
        "        f : R^n -> R^n\n",
        "        x = x(t) : R^n\n",
        "        t = tiempo : R\n",
        "        dt = paso de tiempo : R\n",
        "        p = parametros : R^q        \n",
        "        \n",
        "    Retorna aproximacion numérica de\n",
        "    \n",
        "        x(t+dt) : R^n\n",
        "\n",
        "    # Ejemplos:\n",
        "    \"\"\"    \n",
        "    k1 = f(x,t,p)\n",
        "    k2 = f(x+0.5*dt*k1,t+0.5*dt,p)\n",
        "    k3 = f(x+0.5*dt*k2,t+0.5*dt,p)\n",
        "    k4 = f(x+dt*k3,t+dt,p)\n",
        "    return x+dt*(k1+2.0*k2+2.0*k3+k4)/6.0"
      ],
      "execution_count": null,
      "outputs": []
    },
    {
      "cell_type": "code",
      "metadata": {
        "id": "yczYQVsss5o3"
      },
      "source": [
        "\n",
        "def integrador_ode(m,f,x0,a,b,k,p):\n",
        "    \"\"\"\n",
        "    Integra numéricamente la ODE\n",
        "    \n",
        "        dx/dt = f(x,t)\n",
        "        \n",
        "    sobre el intervalo t:[a,b] usando k pasos de integración y el método m, bajo condicion inicial x(a)=x0.\n",
        "    No es necesario que a<b.\n",
        "    \n",
        "    Argumentos de entrada:\n",
        "    \n",
        "        m = metodo de integracion (ej. euler, rk2, etc.)\n",
        "        f : R^n -> R^n\n",
        "        x0 = condicion inicial : R\n",
        "        a = tiempo inicial : R\n",
        "        b = tiempo final : R\n",
        "        k = num. pasos de integracion : N\n",
        "        p = parametros : R^q        \n",
        "    \n",
        "    Retorna:\n",
        "    \n",
        "        t : R^{k+1} , t_j = a+j*dt para j=0,1,...,k\n",
        "        x : R^{k+1,n} , x_ij = x_i(t_j) para i=0,1,...,n-1 y j=0,1,...,k\n",
        "        \n",
        "    donde a+k*dt = b.\n",
        "    \"\"\"  \n",
        "    assert k>0\n",
        "    n = len(x0)\n",
        "    dt = (b-a)/k\n",
        "    x = np.zeros((n,k+1))\n",
        "    t = np.zeros(k+1)\n",
        "    x[:,0] = x0\n",
        "    t[0] = a\n",
        "    for j in range(k):\n",
        "        t[j+1] = t[j] + dt\n",
        "        x[:,j+1] = m(f,x[:,j],t[j],dt,p)\n",
        "    return t,x"
      ],
      "execution_count": null,
      "outputs": []
    },
    {
      "cell_type": "markdown",
      "metadata": {
        "id": "jOUq1dgWrnbR"
      },
      "source": [
        "# **Ejercicio 1**:\n",
        "\n",
        "\n",
        "Considere la Ecuación Diferencial Ordinaria (ODE)\n",
        "\n",
        "$$\\dot{x}=-a x + b$$\n",
        "donde $a,b > 0$.\n",
        "\n",
        "1.Encuentre el/los puntos fijos.\n",
        "\n",
        "2.Determine la estabilidad lineal de el/los mismo/s.\n",
        "\n",
        "3.Use el método de integración de Runge Kutta de orden 4 para calcular la trayectoria de la solución $x(0)=1$ usando $k=20$ pasos de integración en $t\\in [0,5]$ para $a=2$ y $b=3$.\n",
        "\n",
        "4.Grafique la trayectoria $x(t)$. Compare con la solución exacta de condicion inicial $x(0)=x_0$:\n",
        "$$\\begin{eqnarray}\n",
        "x(t) = \\bigg(x_0-\\frac{b}{a}\\bigg)e^{-at}+\\frac{b}{a} \\\\\n",
        "\\end{eqnarray}$$\n",
        "\n",
        "5.Grafique $\\dot{x}$ vs $x$. Incluya:\n",
        "\n",
        "a. Los puntos fijos, en blanco si son inestables, en negro si son estables y en rojo si son linealmente marginales.\n",
        "\n",
        "b. En gris a rayas, la linea $\\dot{x}=0$ para todo $x$.\n",
        "\n",
        "c. En azul, flechas que indiquen la dirección de cambio en cada región entre puntos fijos, incluyendo los puntos $x = \\pm \\infty$.\n",
        "\n",
        "\n"
      ]
    },
    {
      "cell_type": "markdown",
      "metadata": {
        "id": "b6pZgo4PrwUf"
      },
      "source": [
        "Para punto c usar plt.arrow"
      ]
    },
    {
      "cell_type": "markdown",
      "metadata": {
        "id": "oNEQ65gBtK6n"
      },
      "source": [
        "1.Los puntos fijos del sistema se obtienen a partir de\n",
        "\n",
        "$\\dot{x}=0$   $\\hspace{0.3cm}$  $\\rightarrow$  $\\hspace{0.3cm}$  $-ax+b=0$  $\\hspace{0.3cm}$ $\\rightarrow$  $\\hspace{0.3cm}$  $x^*=\\frac{b}{a}$\n",
        "\n",
        "2.Estabilidad del punto fijo.\n",
        "\n",
        "$\\dot{x}=f(x)$   $\\hspace{0.3cm}$  $\\rightarrow$  $\\hspace{0.3cm}$ $f(x)=-ax+b$ $\\hspace{0.3cm}$  $\\rightarrow$  $\\hspace{0.3cm}$ $f'(x)=-a<0$.\n",
        "\n",
        "Como la pendiente en el punto fijo del sistema es menor a cero el punto fijo es estable.\n",
        "\n",
        "\n"
      ]
    },
    {
      "cell_type": "markdown",
      "metadata": {
        "id": "-g_8EH2DYwT2"
      },
      "source": [
        "3."
      ]
    },
    {
      "cell_type": "code",
      "metadata": {
        "colab": {
          "base_uri": "https://localhost:8080/",
          "height": 279
        },
        "id": "5A-UxU_GtKBp",
        "outputId": "9f2f0197-0b36-4427-b401-5bb342199961"
      },
      "source": [
        "a=2\n",
        "b=3\n",
        "k=20\n",
        "\n",
        "t=np.linspace(0,5,k)\n",
        "\n",
        "x0=1\n",
        "\n",
        "x=np.zeros(k)\n",
        "\n",
        "x[0]=x0\n",
        "\n",
        "def f(x,t,a,b):\n",
        "  y=-a*x+b\n",
        "  return y\n",
        "\n",
        "dt=t[1]-t[0]\n",
        "for i in np.arange(0,k-1):\n",
        "  \n",
        "  k1 = f(x[i],t,a,b)\n",
        "  k2 = f(x[i]+0.5*dt*k1,t[i]+0.5*dt,a,b)\n",
        "  k3 = f(x[i]+0.5*dt*k2,t[i]+0.5*dt,a,b)\n",
        "  k4 = f(x[i]+dt*k3,t[i]+dt,a,b)\n",
        "\n",
        "  x[i+1]=x[i]+dt*(k1+2.0*k2+2.0*k3+k4)/6.0\n",
        "\n",
        "\n",
        "\n",
        "x_real=np.zeros(k)\n",
        "#x_real[0]=x0\n",
        "for i in np.arange(0,k):\n",
        "  x_real[i]=(x0-b/a)*np.exp(-a*t[i])+b/a\n",
        "\n",
        "plt.plot(t,x,color='blue')\n",
        "\n",
        "plt.plot(t,x_real,color='red')\n",
        "plt.xlabel('t')\n",
        "plt.ylabel('x')\n",
        "plt.show()\n",
        "\n"
      ],
      "execution_count": null,
      "outputs": [
        {
          "output_type": "display_data",
          "data": {
            "image/png": "[encoded data removed]",
            "text/plain": [
              "<Figure size 432x288 with 1 Axes>"
            ]
          },
          "metadata": {
            "needs_background": "light"
          }
        }
      ]
    },
    {
      "cell_type": "markdown",
      "metadata": {
        "id": "Hn1sXVoJoYhu"
      },
      "source": [
        "5.  $\\dot{x}=-ax+b$"
      ]
    },
    {
      "cell_type": "code",
      "metadata": {
        "colab": {
          "base_uri": "https://localhost:8080/",
          "height": 279
        },
        "id": "AjAIblHyoZdh",
        "outputId": "f6709d00-5a79-448b-d9e3-ccaafe46411d"
      },
      "source": [
        "n=50\n",
        "\n",
        "x_punto=np.zeros(n)\n",
        "x=np.linspace(-2,3.5,n)\n",
        "\n",
        "for i in np.arange(0,n):\n",
        "  x_punto[i]=-a*x[i]+b\n",
        "\n",
        "\n",
        "line_y0=np.zeros(n)\n",
        "\n",
        "plt.plot(x,x_punto,color='black')\n",
        "plt.scatter(b/a,0, color='black') #, facecolors='none'\n",
        "plt.plot(x,line_y0,'k--')\n",
        "#plt.axhline(color='black')\n",
        "plt.axvline(color='black')\n",
        "plt.arrow(0,0,0.5,0,color='blue', length_includes_head=True,head_width=0.4, head_length=0.2)\n",
        "plt.arrow(3,0,-0.5,0,color='blue', length_includes_head=True,head_width=0.4, head_length=0.2)\n",
        "plt.arrow(-1.5,0,0.5,0,color='blue', length_includes_head=True,head_width=0.4, head_length=0.2)\n",
        "plt.xlim(-2,3.5)\n",
        "plt.xlabel('x')\n",
        "plt.ylabel('dx/dt')\n",
        "plt.show()"
      ],
      "execution_count": null,
      "outputs": [
        {
          "output_type": "display_data",
          "data": {
            "image/png": "[encoded data removed]",
            "text/plain": [
              "<Figure size 432x288 with 1 Axes>"
            ]
          },
          "metadata": {
            "needs_background": "light"
          }
        }
      ]
    },
    {
      "cell_type": "markdown",
      "metadata": {
        "id": "jUdX9W513GE9"
      },
      "source": [
        "# **Ejercicio 2**\n",
        "\n",
        "\n",
        "La ecuación logística es\n",
        "\n",
        "$$\\dot{N} = rN\\bigg(1-\\frac{N}{K}\\bigg)$$\n",
        "donde $r>0$ representa una taza de reproducción y $K>0$ una capacidad de carga.\n",
        "\n",
        "1.Determine los puntos fijos.\n",
        "\n",
        "2.Determine la estabilidad de los puntos fijos.\n",
        "\n",
        "3.Utilice el integrador de Runge Kutta de orden 4 para calcular y graficar usando $k=100$ pasos de integración en $t\\in [0,5]$ para $r=1$, $K=1$ y:\n",
        "\n",
        "a. $N(0)=0.1K$\n",
        "\n",
        "b. $N(0)=0.7K$\n",
        "\n",
        "c. $N(0)=1.2K$\n",
        "\n",
        "4.Grafique con lineas punteadas la solución exacta en donde la condición inicial viene dada por $N(0)=Kx_0$:$$x(t) = \\frac{\\frac{x_0}{1-x_0}e^{rt}}{1+\\frac{x_0}{1-x_0}e^{rt}}$$\n",
        "\n",
        "5.Repita 2.3 y 2.4 para $r=0.25$ y $r=4$.\n",
        "\n",
        "6.Discuta lo observado hasta el momento.\n",
        "\n",
        "7.Grafique $\\dot{x}=f(x)$ vs $x$ para $x\\in [0,1.25]$, $r=1$ y $K=1$. Incluya:\n",
        "\n",
        "a. Los puntos fijos, en blanco los linealmente inestables, en negro los linealmente estables y en amarillo los linealmente marginales.\n",
        "\n",
        "b. Con una línea punteada gris, la curva $\\dot{x}=0$.\n",
        "\n",
        "c. Flechas azules que indiquen la dirección de la velocidad.\n",
        "\n",
        "d. En verde, el punto de máxima velocidad.\n",
        "\n",
        "8.Observe en los puntos 2.3 y 2.5 que la curva del caso a. presenta un cambio de concavidad y mientras que la curva del caso b. no lo hace. Use el gráfico del punto 2.7 para explicar lo que ocurre.1."
      ]
    },
    {
      "cell_type": "markdown",
      "metadata": {
        "id": "M-gfGwe43wgJ"
      },
      "source": [
        "1. Puntos fijos del sistema\n",
        "\n",
        "$\\dot{N}=0$ $\\hspace{0.3cm}$  $\\rightarrow$  $\\hspace{0.3cm}$  $ rN\\bigg(1-\\frac{N}{K}\\bigg)=0$ $\\hspace{0.3cm}$  $\\rightarrow$  $\\hspace{0.3cm}$ \n",
        "$N_1=0$ $\\hspace{0.3cm}$ , $\\hspace{0.3cm}$  $N_2=K$\n",
        "\n",
        "2. Estabilidad de los puntos fijos\n",
        "\n",
        "$\\dot{N}=f(N)$ $\\hspace{0.3cm}$  $\\rightarrow$  $\\hspace{0.3cm}$  $ rN\\bigg(1-\\frac{N}{K}\\bigg)=f(N)$ $\\hspace{0.3cm}$  $\\rightarrow$  $\\hspace{0.3cm}$ $f'(N)=r-2\\frac{r}{K} N$\n",
        "\n",
        "Para $N_1=0$ $\\hspace{0.3cm}$  $\\rightarrow$  $\\hspace{0.3cm}$ $f'(0)=r>0$ $\\hspace{0.3cm}$  $\\rightarrow$  $\\hspace{0.3cm}$ Punto fijo inestable\n",
        "\n",
        "Para $N_2=K$ $\\hspace{0.3cm}$  $\\rightarrow$  $\\hspace{0.3cm}$ $f'(0)=-r<0$ $\\hspace{0.3cm}$  $\\rightarrow$  $\\hspace{0.3cm}$ Punto fijo estable\n",
        "\n",
        "\n",
        "3."
      ]
    },
    {
      "cell_type": "code",
      "metadata": {
        "colab": {
          "base_uri": "https://localhost:8080/",
          "height": 279
        },
        "id": "ptFV8T573oMw",
        "outputId": "de1fff66-43fe-4419-e83d-ded779887da4"
      },
      "source": [
        "r=1\n",
        "K=1\n",
        "m=100\n",
        "\n",
        "t=np.linspace(0,5,m)\n",
        "\n",
        "\n",
        "\n",
        "N1=np.zeros(m)\n",
        "N2=np.zeros(m)\n",
        "N3=np.zeros(m)\n",
        "\n",
        "N1[0]=0.1*K\n",
        "N2[0]=0.7*K\n",
        "N3[0]=1.2*K\n",
        "\n",
        "def f(N,t,r,K):\n",
        "  y=r*N*(1-N/K)\n",
        "  return y\n",
        "\n",
        "dt=t[1]-t[0]\n",
        "for i in np.arange(0,m-1):\n",
        "  \n",
        "  #Primera Condición inicial\n",
        "  k11 = f(N1[i],t,r,K)\n",
        "  k21 = f(N1[i]+0.5*dt*k11,t[i]+0.5*dt,r,K)\n",
        "  k31 = f(N1[i]+0.5*dt*k21,t[i]+0.5*dt,r,K)\n",
        "  k41 = f(N1[i]+dt*k31,t[i]+dt,r,K)\n",
        "\n",
        "  N1[i+1]=N1[i]+dt*(k11+2.0*k21+2.0*k31+k41)/6.0\n",
        "\n",
        "  #Segunda condición inicial\n",
        "  k12 = f(N2[i],t,r,K)\n",
        "  k22 = f(N2[i]+0.5*dt*k12,t[i]+0.5*dt,r,K)\n",
        "  k32 = f(N2[i]+0.5*dt*k22,t[i]+0.5*dt,r,K)\n",
        "  k42 = f(N2[i]+dt*k32,t[i]+dt,r,K)\n",
        "\n",
        "  N2[i+1]=N2[i]+dt*(k12+2.0*k22+2.0*k32+k42)/6.0\n",
        "\n",
        "\n",
        "  #Tercera condición inicial\n",
        "  k13 = f(N3[i],t,r,K)\n",
        "  k23 = f(N3[i]+0.5*dt*k13,t[i]+0.5*dt,r,K)\n",
        "  k33 = f(N3[i]+0.5*dt*k23,t[i]+0.5*dt,r,K)\n",
        "  k43 = f(N3[i]+dt*k33,t[i]+dt,r,K)\n",
        "\n",
        "  N3[i+1]=N3[i]+dt*(k13+2.0*k23+2.0*k33+k43)/6.0\n",
        "\n",
        "\n",
        "\n",
        "\n",
        "#Soluciones exactas\n",
        "N1_exacto=np.zeros(m)\n",
        "N2_exacto=np.zeros(m)\n",
        "N3_exacto=np.zeros(m)\n",
        "#x_real[0]=x0\n",
        "for i in np.arange(0,m):\n",
        "  N1_exacto[i]=N1[0]/(1-N1[0])*np.exp(r*t[i])/(1+N1[0]/(1-N1[0])*np.exp(r*t[i]))\n",
        "  N2_exacto[i]=N2[0]/(1-N2[0])*np.exp(r*t[i])/(1+N2[0]/(1-N2[0])*np.exp(r*t[i]))\n",
        "  N3_exacto[i]=N3[0]/(1-N3[0])*np.exp(r*t[i])/(1+N3[0]/(1-N3[0])*np.exp(r*t[i]))\n",
        "\n",
        "\n",
        "\n",
        "\n",
        "plt.plot(t,N1,color='blue',label='N0=0.1K')\n",
        "plt.plot(t,N2,color='red',label='N0=0.7K')\n",
        "plt.plot(t,N3,color='green',label='N0=1.2K')\n",
        "plt.plot(t,N1_exacto,'b--',label='N0=0.1K')\n",
        "plt.plot(t,N2_exacto,'r--',label='N0=0.7K')\n",
        "plt.plot(t,N3_exacto,'g--',label='N0=1.2K')\n",
        "\n",
        "plt.xlabel('t')\n",
        "plt.ylabel('N')\n",
        "plt.legend(loc='lower right')\n",
        "plt.show()"
      ],
      "execution_count": null,
      "outputs": [
        {
          "output_type": "display_data",
          "data": {
            "image/png": "[encoded data removed]",
            "text/plain": [
              "<Figure size 432x288 with 1 Axes>"
            ]
          },
          "metadata": {
            "needs_background": "light"
          }
        }
      ]
    },
    {
      "cell_type": "markdown",
      "metadata": {
        "id": "UX6uX5KLAQeT"
      },
      "source": [
        "5. Repetir 3 y 4 para $r=0.25$ y $r=4$."
      ]
    },
    {
      "cell_type": "code",
      "metadata": {
        "colab": {
          "base_uri": "https://localhost:8080/",
          "height": 279
        },
        "id": "Auzew0QyAZ5C",
        "outputId": "64013d09-4aa6-4c1a-9f89-2ac3ddb5b804"
      },
      "source": [
        "r=0.25\n",
        "K=1\n",
        "m=100\n",
        "\n",
        "t=np.linspace(0,5,m)\n",
        "\n",
        "\n",
        "\n",
        "N1=np.zeros(m)\n",
        "N2=np.zeros(m)\n",
        "N3=np.zeros(m)\n",
        "\n",
        "N1[0]=0.1*K\n",
        "N2[0]=0.7*K\n",
        "N3[0]=1.2*K\n",
        "\n",
        "def f(N,t,r,K):\n",
        "  y=r*N*(1-N/K)\n",
        "  return y\n",
        "\n",
        "dt=t[1]-t[0]\n",
        "for i in np.arange(0,m-1):\n",
        "  \n",
        "  #Primera Condición inicial\n",
        "  k11 = f(N1[i],t,r,K)\n",
        "  k21 = f(N1[i]+0.5*dt*k11,t[i]+0.5*dt,r,K)\n",
        "  k31 = f(N1[i]+0.5*dt*k21,t[i]+0.5*dt,r,K)\n",
        "  k41 = f(N1[i]+dt*k31,t[i]+dt,r,K)\n",
        "\n",
        "  N1[i+1]=N1[i]+dt*(k11+2.0*k21+2.0*k31+k41)/6.0\n",
        "\n",
        "  #Segunda condición inicial\n",
        "  k12 = f(N2[i],t,r,K)\n",
        "  k22 = f(N2[i]+0.5*dt*k12,t[i]+0.5*dt,r,K)\n",
        "  k32 = f(N2[i]+0.5*dt*k22,t[i]+0.5*dt,r,K)\n",
        "  k42 = f(N2[i]+dt*k32,t[i]+dt,r,K)\n",
        "\n",
        "  N2[i+1]=N2[i]+dt*(k12+2.0*k22+2.0*k32+k42)/6.0\n",
        "\n",
        "\n",
        "  #Tercera condición inicial\n",
        "  k13 = f(N3[i],t,r,K)\n",
        "  k23 = f(N3[i]+0.5*dt*k13,t[i]+0.5*dt,r,K)\n",
        "  k33 = f(N3[i]+0.5*dt*k23,t[i]+0.5*dt,r,K)\n",
        "  k43 = f(N3[i]+dt*k33,t[i]+dt,r,K)\n",
        "\n",
        "  N3[i+1]=N3[i]+dt*(k13+2.0*k23+2.0*k33+k43)/6.0\n",
        "\n",
        "\n",
        "\n",
        "\n",
        "#Soluciones exactas\n",
        "N1_exacto=np.zeros(m)\n",
        "N2_exacto=np.zeros(m)\n",
        "N3_exacto=np.zeros(m)\n",
        "#x_real[0]=x0\n",
        "for i in np.arange(0,m):\n",
        "  N1_exacto[i]=N1[0]/(1-N1[0])*np.exp(r*t[i])/(1+N1[0]/(1-N1[0])*np.exp(r*t[i]))\n",
        "  N2_exacto[i]=N2[0]/(1-N2[0])*np.exp(r*t[i])/(1+N2[0]/(1-N2[0])*np.exp(r*t[i]))\n",
        "  N3_exacto[i]=N3[0]/(1-N3[0])*np.exp(r*t[i])/(1+N3[0]/(1-N3[0])*np.exp(r*t[i]))\n",
        "\n",
        "\n",
        "\n",
        "\n",
        "plt.plot(t,N1,color='blue',label='N0=0.1K')\n",
        "plt.plot(t,N2,color='red',label='N0=0.7K')\n",
        "plt.plot(t,N3,color='green',label='N0=1.2K')\n",
        "plt.plot(t,N1_exacto,'b--',label='N0=0.1K')\n",
        "plt.plot(t,N2_exacto,'r--',label='N0=0.7K')\n",
        "plt.plot(t,N3_exacto,'g--',label='N0=1.2K')\n",
        "\n",
        "plt.xlabel('t')\n",
        "plt.ylabel('N')\n",
        "plt.legend(loc='lower right')\n",
        "plt.show()"
      ],
      "execution_count": null,
      "outputs": [
        {
          "output_type": "display_data",
          "data": {
            "image/png": "[encoded data removed]",
            "text/plain": [
              "<Figure size 432x288 with 1 Axes>"
            ]
          },
          "metadata": {
            "needs_background": "light"
          }
        }
      ]
    },
    {
      "cell_type": "code",
      "metadata": {
        "colab": {
          "base_uri": "https://localhost:8080/",
          "height": 279
        },
        "id": "hXX_24Z0Afw2",
        "outputId": "e25b71eb-3c80-4b15-9f19-31c55639639c"
      },
      "source": [
        "r=4\n",
        "K=1\n",
        "m=100\n",
        "\n",
        "t=np.linspace(0,5,m)\n",
        "\n",
        "\n",
        "\n",
        "N1=np.zeros(m)\n",
        "N2=np.zeros(m)\n",
        "N3=np.zeros(m)\n",
        "\n",
        "N1[0]=0.1*K\n",
        "N2[0]=0.7*K\n",
        "N3[0]=1.2*K\n",
        "\n",
        "def f(N,t,r,K):\n",
        "  y=r*N*(1-N/K)\n",
        "  return y\n",
        "\n",
        "dt=t[1]-t[0]\n",
        "for i in np.arange(0,m-1):\n",
        "  \n",
        "  #Primera Condición inicial\n",
        "  k11 = f(N1[i],t,r,K)\n",
        "  k21 = f(N1[i]+0.5*dt*k11,t[i]+0.5*dt,r,K)\n",
        "  k31 = f(N1[i]+0.5*dt*k21,t[i]+0.5*dt,r,K)\n",
        "  k41 = f(N1[i]+dt*k31,t[i]+dt,r,K)\n",
        "\n",
        "  N1[i+1]=N1[i]+dt*(k11+2.0*k21+2.0*k31+k41)/6.0\n",
        "\n",
        "  #Segunda condición inicial\n",
        "  k12 = f(N2[i],t,r,K)\n",
        "  k22 = f(N2[i]+0.5*dt*k12,t[i]+0.5*dt,r,K)\n",
        "  k32 = f(N2[i]+0.5*dt*k22,t[i]+0.5*dt,r,K)\n",
        "  k42 = f(N2[i]+dt*k32,t[i]+dt,r,K)\n",
        "\n",
        "  N2[i+1]=N2[i]+dt*(k12+2.0*k22+2.0*k32+k42)/6.0\n",
        "\n",
        "\n",
        "  #Tercera condición inicial\n",
        "  k13 = f(N3[i],t,r,K)\n",
        "  k23 = f(N3[i]+0.5*dt*k13,t[i]+0.5*dt,r,K)\n",
        "  k33 = f(N3[i]+0.5*dt*k23,t[i]+0.5*dt,r,K)\n",
        "  k43 = f(N3[i]+dt*k33,t[i]+dt,r,K)\n",
        "\n",
        "  N3[i+1]=N3[i]+dt*(k13+2.0*k23+2.0*k33+k43)/6.0\n",
        "\n",
        "\n",
        "\n",
        "\n",
        "#Soluciones exactas\n",
        "N1_exacto=np.zeros(m)\n",
        "N2_exacto=np.zeros(m)\n",
        "N3_exacto=np.zeros(m)\n",
        "#x_real[0]=x0\n",
        "for i in np.arange(0,m):\n",
        "  N1_exacto[i]=N1[0]/(1-N1[0])*np.exp(r*t[i])/(1+N1[0]/(1-N1[0])*np.exp(r*t[i]))\n",
        "  N2_exacto[i]=N2[0]/(1-N2[0])*np.exp(r*t[i])/(1+N2[0]/(1-N2[0])*np.exp(r*t[i]))\n",
        "  N3_exacto[i]=N3[0]/(1-N3[0])*np.exp(r*t[i])/(1+N3[0]/(1-N3[0])*np.exp(r*t[i]))\n",
        "\n",
        "\n",
        "\n",
        "\n",
        "plt.plot(t,N1,color='blue',label='N0=0.1K')\n",
        "plt.plot(t,N2,color='red',label='N0=0.7K')\n",
        "plt.plot(t,N3,color='green',label='N0=1.2K')\n",
        "plt.plot(t,N1_exacto,'b--',label='N0=0.1K')\n",
        "plt.plot(t,N2_exacto,'r--',label='N0=0.7K')\n",
        "plt.plot(t,N3_exacto,'g--',label='N0=1.2K')\n",
        "\n",
        "plt.xlabel('t')\n",
        "plt.ylabel('N')\n",
        "plt.legend(loc='lower right')\n",
        "plt.show()"
      ],
      "execution_count": null,
      "outputs": [
        {
          "output_type": "display_data",
          "data": {
            "image/png": "[encoded data removed]",
            "text/plain": [
              "<Figure size 432x288 with 1 Axes>"
            ]
          },
          "metadata": {
            "needs_background": "light"
          }
        }
      ]
    },
    {
      "cell_type": "markdown",
      "metadata": {
        "id": "p9P4CvuQApEW"
      },
      "source": [
        "6.Según lo analizado, el parámetro $r$ regula el tiempo que tarda el sistema en alcanzar el equilibrio. Cuando mayor es el valor de $r$ el sistema se equilibra más rápido\n",
        "\n",
        "7."
      ]
    },
    {
      "cell_type": "code",
      "metadata": {
        "colab": {
          "base_uri": "https://localhost:8080/",
          "height": 279
        },
        "id": "XTNmgB_bBU-N",
        "outputId": "299e3fbb-421c-430f-860e-9d8866624a03"
      },
      "source": [
        "m=50\n",
        "\n",
        "r=1\n",
        "K=1\n",
        "\n",
        "N_punto=np.zeros(m)\n",
        "N=np.linspace(0,1.25,m)\n",
        "\n",
        "for i in np.arange(0,m):\n",
        "  N_punto[i]=r*N[i]*(1-N[i]/K)\n",
        "\n",
        "vel_max=np.amax(N_punto)\n",
        "\n",
        "for i in np.arange(0,m):\n",
        "  if N_punto[i]==vel_max:\n",
        "    pos_vel_max=N[i]\n",
        "\n",
        "\n",
        "line_y0=np.zeros(m)\n",
        "x_axis=np.linspace(-1,2.1,50)\n",
        "\n",
        "plt.plot(N,N_punto,color='black')\n",
        "plt.scatter(0,0, facecolors='none', color='black') #\n",
        "plt.scatter(K,0, color='black')\n",
        "plt.scatter(pos_vel_max,vel_max, color='green')\n",
        "plt.plot(x_axis,line_y0,'k--')\n",
        "#plt.axhline(color='black')\n",
        "plt.axvline(color='black')\n",
        "plt.arrow(0,0,0.5,0,color='blue', length_includes_head=True,head_width=0.05, head_length=0.07)\n",
        "plt.arrow(2,0,-0.5,0,color='blue', length_includes_head=True,head_width=0.05, head_length=0.07)\n",
        "plt.arrow(-0.2,0,-0.5,0,color='blue', length_includes_head=True,head_width=0.05, head_length=0.07)\n",
        "plt.xlim(-1,2.1)\n",
        "plt.xlabel('N')\n",
        "plt.ylabel('dN/dt')\n",
        "plt.show()"
      ],
      "execution_count": null,
      "outputs": [
        {
          "output_type": "display_data",
          "data": {
            "image/png": "[encoded data removed]",
            "text/plain": [
              "<Figure size 432x288 with 1 Axes>"
            ]
          },
          "metadata": {
            "needs_background": "light"
          }
        }
      ]
    },
    {
      "cell_type": "markdown",
      "metadata": {
        "id": "3DR9PKRLEFvw"
      },
      "source": [
        "8. Analizando el gráfico obtenido en el punto 2.7 uno puede explicar la diferencia de cambios de concavidad observados en los puntos 2.3 y 2.5. Para el caso a, donde $N_0=0.1K$, el sistema se encuentra a izquierda del máximo de velocidad, y tiende al punto fijo estable, por eso primero se acelera, alcanza el máximo de velocidad y luego se desacelera.\n",
        "\n",
        "  Por otro lado, para el caso b, $N_0=0.7K$, el sistema se encuentra en un N mayor al correspondiente de velocidad máxima y tiende al punto fijo estable desacelerandose todo el tiempo."
      ]
    }
  ]
}